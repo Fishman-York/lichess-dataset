{
 "cells": [
  {
   "cell_type": "code",
   "execution_count": 65,
   "id": "45a3b400",
   "metadata": {},
   "outputs": [],
   "source": [
    "import pandas as pd\n",
    "import database_load\n",
    "import numpy as np\n",
    "import matplotlib.pyplot as plt"
   ]
  },
  {
   "cell_type": "code",
   "execution_count": 57,
   "id": "e5a50909",
   "metadata": {},
   "outputs": [],
   "source": [
    "def dataframe_creation(cursor, query):\n",
    "    #load query results into pd df\n",
    "    cursor.execute(query)\n",
    "    colnames = [col[0] for col in cursor.description]\n",
    "    df = pd.DataFrame(cursor.fetchall(), columns=colnames)\n",
    "    return df\n",
    "\n",
    "\n",
    "db_connection = database_load.connect_database()\n",
    "db_cursor = db_connection.cursor()\n",
    "\n",
    "df = dataframe_creation(db_cursor, 'select * from games')\n",
    "\n",
    "#close database connection\n",
    "db_cursor.close()\n",
    "db_connection.close()"
   ]
  },
  {
   "cell_type": "code",
   "execution_count": 58,
   "id": "783e31e8",
   "metadata": {},
   "outputs": [],
   "source": [
    "def split_creation(df_in, col_in, step):\n",
    "    max_rating= df_in[col_in].max()\n",
    "    min_ratings= df_in[col_in].min()-df_in[col_in].min()%step\n",
    "    split = []\n",
    "    while min_ratings <= max_rating:\n",
    "        split.append(min_ratings)\n",
    "        min_ratings+= step\n",
    "    return split\n",
    "    \n",
    "#take rating_avg, split into different df\n",
    "def tier_creation(df_in, col_in, col_out, step):\n",
    "    tiers = split_creation(df_in, col_in, step)\n",
    "    tiers.append(float('inf'))\n",
    "    df_in[col_out] = pd.cut(df_in[col_in], bins=tiers, labels=tiers[:-1], right=False)"
   ]
  },
  {
   "cell_type": "code",
   "execution_count": 59,
   "id": "5a0f9795",
   "metadata": {},
   "outputs": [],
   "source": [
    "def victor(win_in):\n",
    "    if win_in == 'white':\n",
    "        return 1\n",
    "    elif win_in == 'black':\n",
    "        return -1\n",
    "    else:\n",
    "        return 0"
   ]
  },
  {
   "cell_type": "code",
   "execution_count": 60,
   "id": "d0afa87b",
   "metadata": {},
   "outputs": [
    {
     "name": "stdout",
     "output_type": "stream",
     "text": [
      "       rating_diff  resigned  winner  expected_win\n",
      "0              309     False       1           1.0\n",
      "1               61      True      -1          -1.0\n",
      "2               -4     False       1          -1.0\n",
      "3              -15     False       1          -1.0\n",
      "4               54     False       1           1.0\n",
      "...            ...       ...     ...           ...\n",
      "19108          471      True       1           1.0\n",
      "19109           37     False      -1          -1.0\n",
      "19110          -67     False       1          -1.0\n",
      "19111          133      True       1           1.0\n",
      "19112         -104     False      -1           1.0\n",
      "\n",
      "[19113 rows x 4 columns]\n"
     ]
    }
   ],
   "source": [
    "results_df = pd.DataFrame(columns=['rating_diff', 'resigned', 'winner', 'expected_win'])\n",
    "results_df['rating_diff'] = df['white_rating']-df['black_rating']\n",
    "results_df['resigned'] = np.select([df['victory_status']=='resign'], [True], default=False)\n",
    "#keep expected win because we need to check who resigned\n",
    "results_df['winner'] = np.select([df['winner']=='white', df['winner']=='black'], [1,-1],default=0)\n",
    "results_df['expected_win'] = np.sign(results_df['winner']/results_df['rating_diff'])\n",
    "print(results_df)"
   ]
  },
  {
   "cell_type": "code",
   "execution_count": 61,
   "id": "b833ca7e",
   "metadata": {},
   "outputs": [],
   "source": [
    "#create the different datapoints\n",
    "tier_creation(results_df, 'rating_diff', 'diff_rank',100)\n",
    "\n",
    "ranked_df = results_df.groupby(['diff_rank', 'resigned'], observed=False).agg(win_amount=('expected_win', 'sum'), game_amount=('winner','count')).reset_index()"
   ]
  },
  {
   "cell_type": "code",
   "execution_count": 62,
   "id": "c2547590",
   "metadata": {},
   "outputs": [],
   "source": [
    "#to get correlation\n",
    "#amount of expected resigns/amount of games(resigned or not)\n",
    "#first, abs the diff_rank, then add false and true games together\n",
    "#expected wins/added games for percentage\n",
    "\n",
    "ranked_df['abs_diff_rank'] = ranked_df['diff_rank'].apply(lambda x: abs(x+100) if x<0 else x)\n",
    "abs_ranked_df = ranked_df.groupby(['abs_diff_rank', 'resigned'], observed=False).agg(win_amount=('win_amount', 'sum'), game_amount=('game_amount','sum')).reset_index()"
   ]
  },
  {
   "cell_type": "code",
   "execution_count": 63,
   "id": "8953ef4d",
   "metadata": {},
   "outputs": [
    {
     "name": "stdout",
     "output_type": "stream",
     "text": [
      "    abs_diff_rank  win_amount  game_amount  resign_percentage\n",
      "0               0       442.0         8707           0.050764\n",
      "1             100       767.0         4407           0.174041\n",
      "2             200       738.0         2541           0.290437\n",
      "3             300       442.0         1444           0.306094\n",
      "4             400       326.0          847           0.384888\n",
      "5             500       210.0          519           0.404624\n",
      "6             600       107.0          276           0.387681\n",
      "7             700        66.0          168           0.392857\n",
      "8             800        31.0           89           0.348315\n",
      "9             900        24.0           58           0.413793\n",
      "10           1000         5.0           24           0.208333\n",
      "11           1100         8.0           13           0.615385\n",
      "12           1200         7.0           11           0.636364\n"
     ]
    }
   ],
   "source": [
    "expected_outcomes = abs_ranked_df[abs_ranked_df['resigned']==True][['abs_diff_rank', 'win_amount']]\n",
    "total_games = abs_ranked_df.groupby('abs_diff_rank')['game_amount'].sum().reset_index()\n",
    "graph_df = pd.merge(expected_outcomes, total_games, on='abs_diff_rank', how='left')\n",
    "graph_df['resign_percentage']=graph_df['win_amount']/graph_df['game_amount']\n",
    "\n",
    "#exclude rank differences that have too small sample size\n",
    "good_graph_df = graph_df[graph_df['game_amount']>10]\n",
    "print(good_graph_df)"
   ]
  },
  {
   "cell_type": "code",
   "execution_count": 64,
   "id": "891f55a7",
   "metadata": {},
   "outputs": [
    {
     "data": {
      "text/plain": [
       "Text(0, 0.5, 'Resign Percentage')"
      ]
     },
     "execution_count": 64,
     "metadata": {},
     "output_type": "execute_result"
    },
    {
     "data": {
      "image/png": "[encoded data removed]",
      "text/plain": [
       "<Figure size 640x480 with 1 Axes>"
      ]
     },
     "metadata": {},
     "output_type": "display_data"
    }
   ],
   "source": [
    "a, b = np.polyfit(good_graph_df['abs_diff_rank'], good_graph_df['resign_percentage'], 1)\n",
    "\n",
    "plt.figure()\n",
    "plt.scatter(good_graph_df['abs_diff_rank'], good_graph_df['resign_percentage'])\n",
    "plt.plot(good_graph_df['abs_diff_rank'], a*good_graph_df['abs_diff_rank']+b)\n",
    "plt.xlabel(\"Difference in Rank\")\n",
    "plt.ylabel(\"Resign Percentage\")"
   ]
  },
  {
   "cell_type": "markdown",
   "id": "8f735d91",
   "metadata": {},
   "source": [
    "The scatter graph shows that while resigns increase as difference in rank increases, it is at a diminishing rate. This is against my expectation as I expected a difference in rank to actually exponentially affect the resign percentage, because I expected players to give up easier when faced with huge odds against them."
   ]
  }
 ],
 "metadata": {
  "kernelspec": {
   "display_name": "venv",
   "language": "python",
   "name": "python3"
  },
  "language_info": {
   "codemirror_mode": {
    "name": "ipython",
    "version": 3
   },
   "file_extension": ".py",
   "mimetype": "text/x-python",
   "name": "python",
   "nbconvert_exporter": "python",
   "pygments_lexer": "ipython3",
   "version": "3.13.5"
  }
 },
 "nbformat": 4,
 "nbformat_minor": 5
}
