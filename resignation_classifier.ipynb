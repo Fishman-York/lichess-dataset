{
 "cells": [
  {
   "cell_type": "code",
   "execution_count": 1,
   "id": "2ee8b76c",
   "metadata": {},
   "outputs": [],
   "source": [
    "import pandas as pd\n",
    "import database_load\n",
    "import numpy as np\n",
    "import matplotlib.pyplot as plt\n"
   ]
  },
  {
   "cell_type": "code",
   "execution_count": 2,
   "id": "e3fb4b5a",
   "metadata": {},
   "outputs": [],
   "source": [
    "def dataframe_creation(cursor, query):\n",
    "    #load query results into pd df\n",
    "    cursor.execute(query)\n",
    "    colnames = [col[0] for col in cursor.description]\n",
    "    df = pd.DataFrame(cursor.fetchall(), columns=colnames)\n",
    "    return df\n",
    "\n",
    "\n",
    "db_connection = database_load.connect_database()\n",
    "db_cursor = db_connection.cursor()\n",
    "\n",
    "df = dataframe_creation(db_cursor, 'select * from games')\n",
    "\n",
    "#close database connection\n",
    "db_cursor.close()\n",
    "db_connection.close()"
   ]
  },
  {
   "cell_type": "code",
   "execution_count": 17,
   "id": "9b825966",
   "metadata": {},
   "outputs": [
    {
     "name": "stdout",
     "output_type": "stream",
     "text": [
      "       white  black  rank_diff  winner  resigned  expected_win\n",
      "0       1500   1191        309       1         0           1.0\n",
      "1       1322   1261         61      -1         1          -1.0\n",
      "2       1496   1500         -4       1         0          -1.0\n",
      "3       1439   1454        -15       1         0          -1.0\n",
      "4       1523   1469         54       1         0           1.0\n",
      "...      ...    ...        ...     ...       ...           ...\n",
      "19108   1691   1220        471       1         1           1.0\n",
      "19109   1233   1196         37      -1         0          -1.0\n",
      "19110   1219   1286        -67       1         0          -1.0\n",
      "19111   1360   1227        133       1         1           1.0\n",
      "19112   1235   1339       -104      -1         0           1.0\n",
      "\n",
      "[19113 rows x 6 columns]\n"
     ]
    }
   ],
   "source": [
    "#Question of whether player 1, faced with a higher rank, will resign\n",
    "#Columns: white, black, rank_diff, who won, resigned\n",
    "\n",
    "results_df = pd.DataFrame(columns=['white', 'black', 'rank_diff', 'winner', 'resigned'])\n",
    "results_df['white'] = df['white_rating']\n",
    "results_df['black'] = df['black_rating']\n",
    "results_df['rank_diff'] = df['white_rating'] - df['black_rating']\n",
    "results_df['winner'] = np.select([df['winner'] == 'white', df['winner'] == 'black'], [1,-1], default=0)\n",
    "results_df['resigned'] = np.select([df['victory_status']=='resign'], [1], default=0)\n",
    "results_df['expected_win'] = np.sign(results_df['winner']/results_df['rank_diff']).fillna(1)\n",
    "print(results_df)"
   ]
  },
  {
   "cell_type": "code",
   "execution_count": 37,
   "id": "f5206ce2",
   "metadata": {},
   "outputs": [
    {
     "name": "stdout",
     "output_type": "stream",
     "text": [
      "       player_1  player_2  rank_diff  resigned  resigned_int\n",
      "0          1191      1500        309       0.0             0\n",
      "1          1261      1322         61       0.0             0\n",
      "2          1496      1500          4      -0.0             0\n",
      "3          1439      1454         15      -0.0             0\n",
      "4          1469      1523         54       0.0             0\n",
      "...         ...       ...        ...       ...           ...\n",
      "19108      1220      1691        471       1.0             1\n",
      "19109      1196      1233         37      -0.0             0\n",
      "19110      1219      1286         67      -0.0             0\n",
      "19111      1227      1360        133       1.0             1\n",
      "19112      1235      1339        104       0.0             0\n",
      "\n",
      "[19113 rows x 5 columns]\n"
     ]
    }
   ],
   "source": [
    "#Columns: player_1, player_2, rank_diff, player_1_resigned\n",
    "\n",
    "class_df = pd.DataFrame(columns=['player_1','player_2', 'rank_diff', 'resigned'])\n",
    "class_df['player_1'] = results_df[[\"white\", \"black\"]].min(axis=1)\n",
    "class_df['player_2'] = results_df[[\"white\", \"black\"]].max(axis=1)\n",
    "class_df['rank_diff'] = class_df['player_2']- class_df['player_1']\n",
    "#This returns 1 if player 1 resigned, -1 if player 2 resigned, and 0 for anything else\n",
    "class_df['resigned'] = results_df['expected_win']*results_df['resigned']\n",
    "class_df['resigned'] = class_df['resigned'].replace(-1,0)\n",
    "class_df['resigned_int'] = class_df['resigned'].astype(int)\n",
    "print(class_df)"
   ]
  },
  {
   "cell_type": "code",
   "execution_count": 127,
   "id": "d31d1f2f",
   "metadata": {},
   "outputs": [],
   "source": [
    "from sklearn.model_selection import train_test_split\n",
    "from sklearn.metrics import r2_score, f1_score, accuracy_score\n",
    "from sklearn import metrics"
   ]
  },
  {
   "cell_type": "code",
   "execution_count": 128,
   "id": "ae32d238",
   "metadata": {},
   "outputs": [],
   "source": [
    "x_train , x_test, y_train, y_test = train_test_split(class_df[['rank_diff']], class_df[['resigned_int']], test_size=0.2)"
   ]
  },
  {
   "cell_type": "code",
   "execution_count": 129,
   "id": "aa0073a3",
   "metadata": {},
   "outputs": [],
   "source": [
    "def print_statistics(model, x_train=x_train, y_train=y_train, x_test=x_test, y_test=y_test):\n",
    "    y_pred = model.fit(x_train,y_train).predict(x_test)\n",
    "    print('Accuracy', accuracy_score(y_test, y_pred))\n",
    "    print('R2', r2_score(y_test, y_pred))\n",
    "    print('F1', f1_score(y_test, y_pred))\n",
    "    print('Confusion Matrix')\n",
    "    print(metrics.confusion_matrix(y_test, y_pred))"
   ]
  },
  {
   "cell_type": "code",
   "execution_count": 130,
   "id": "d882fdc3",
   "metadata": {},
   "outputs": [],
   "source": [
    "from sklearn.naive_bayes import GaussianNB"
   ]
  },
  {
   "cell_type": "code",
   "execution_count": 131,
   "id": "e78a1305",
   "metadata": {},
   "outputs": [
    {
     "name": "stdout",
     "output_type": "stream",
     "text": [
      "Accuracy 0.6298718284070102\n",
      "R2 -0.5995721302119832\n",
      "F1 0.15421398684997012\n",
      "Confusion Matrix\n",
      "[[2279  154]\n",
      " [1261  129]]\n"
     ]
    },
    {
     "name": "stderr",
     "output_type": "stream",
     "text": [
      "d:\\Coding\\lichess-dataset\\venv\\Lib\\site-packages\\sklearn\\utils\\validation.py:1406: DataConversionWarning: A column-vector y was passed when a 1d array was expected. Please change the shape of y to (n_samples, ), for example using ravel().\n",
      "  y = column_or_1d(y, warn=True)\n"
     ]
    }
   ],
   "source": [
    "gnb = GaussianNB()\n",
    "print_statistics(gnb)"
   ]
  },
  {
   "cell_type": "code",
   "execution_count": 141,
   "id": "6b575873",
   "metadata": {},
   "outputs": [],
   "source": [
    "from sklearn.linear_model import SGDClassifier"
   ]
  },
  {
   "cell_type": "code",
   "execution_count": 150,
   "id": "7428ecdd",
   "metadata": {},
   "outputs": [
    {
     "name": "stdout",
     "output_type": "stream",
     "text": [
      "Accuracy 0.5291655767721685\n",
      "R2 -1.0347914023898017\n",
      "F1 0.49636261891438166\n",
      "Confusion Matrix\n",
      "[[1136 1297]\n",
      " [ 503  887]]\n"
     ]
    },
    {
     "name": "stderr",
     "output_type": "stream",
     "text": [
      "d:\\Coding\\lichess-dataset\\venv\\Lib\\site-packages\\sklearn\\utils\\validation.py:1406: DataConversionWarning: A column-vector y was passed when a 1d array was expected. Please change the shape of y to (n_samples, ), for example using ravel().\n",
      "  y = column_or_1d(y, warn=True)\n"
     ]
    }
   ],
   "source": [
    "sgd = SGDClassifier(loss='log_loss', alpha=0.01)\n",
    "print_statistics(sgd)"
   ]
  },
  {
   "cell_type": "code",
   "execution_count": 156,
   "id": "065fba89",
   "metadata": {},
   "outputs": [
    {
     "name": "stdout",
     "output_type": "stream",
     "text": [
      "Accuracy 0.6235940360973058\n",
      "R2 -0.6267026822438471\n",
      "F1 0.2586295723853684\n",
      "Confusion Matrix\n",
      "[[2133  300]\n",
      " [1139  251]]\n"
     ]
    },
    {
     "name": "stderr",
     "output_type": "stream",
     "text": [
      "d:\\Coding\\lichess-dataset\\venv\\Lib\\site-packages\\sklearn\\utils\\validation.py:1406: DataConversionWarning: A column-vector y was passed when a 1d array was expected. Please change the shape of y to (n_samples, ), for example using ravel().\n",
      "  y = column_or_1d(y, warn=True)\n"
     ]
    }
   ],
   "source": [
    "sgd = SGDClassifier(loss='log_loss', alpha=0.02)\n",
    "print_statistics(sgd)"
   ]
  },
  {
   "cell_type": "code",
   "execution_count": 152,
   "id": "6f4c562b",
   "metadata": {},
   "outputs": [],
   "source": [
    "from sklearn.neighbors import KNeighborsClassifier"
   ]
  },
  {
   "cell_type": "code",
   "execution_count": 135,
   "id": "b19c8ae0",
   "metadata": {},
   "outputs": [
    {
     "name": "stdout",
     "output_type": "stream",
     "text": [
      "Accuracy 0.5786031912110907\n",
      "R2 -0.8211383051388725\n",
      "F1 0.3432531593966572\n",
      "Confusion Matrix\n",
      "[[1791  642]\n",
      " [ 969  421]]\n"
     ]
    },
    {
     "name": "stderr",
     "output_type": "stream",
     "text": [
      "d:\\Coding\\lichess-dataset\\venv\\Lib\\site-packages\\sklearn\\neighbors\\_classification.py:239: DataConversionWarning: A column-vector y was passed when a 1d array was expected. Please change the shape of y to (n_samples,), for example using ravel().\n",
      "  return self._fit(X, y)\n"
     ]
    }
   ],
   "source": [
    "#default neighbour =5\n",
    "knn = KNeighborsClassifier()\n",
    "print_statistics(knn)"
   ]
  },
  {
   "cell_type": "code",
   "execution_count": 136,
   "id": "6bd2d94e",
   "metadata": {},
   "outputs": [
    {
     "name": "stdout",
     "output_type": "stream",
     "text": [
      "Accuracy 0.5430290347894324\n",
      "R2 -0.9748780999861022\n",
      "F1 0.3957108267035628\n",
      "Confusion Matrix\n",
      "[[1504  929]\n",
      " [ 818  572]]\n"
     ]
    },
    {
     "name": "stderr",
     "output_type": "stream",
     "text": [
      "d:\\Coding\\lichess-dataset\\venv\\Lib\\site-packages\\sklearn\\neighbors\\_classification.py:239: DataConversionWarning: A column-vector y was passed when a 1d array was expected. Please change the shape of y to (n_samples,), for example using ravel().\n",
      "  return self._fit(X, y)\n"
     ]
    }
   ],
   "source": [
    "knn = KNeighborsClassifier(n_neighbors=1)\n",
    "print_statistics(knn)"
   ]
  },
  {
   "cell_type": "code",
   "execution_count": 137,
   "id": "f56bd1fb",
   "metadata": {},
   "outputs": [
    {
     "name": "stdout",
     "output_type": "stream",
     "text": [
      "Accuracy 0.61182317551661\n",
      "R2 -0.6775724673035921\n",
      "F1 0.208955223880597\n",
      "Confusion Matrix\n",
      "[[2143  290]\n",
      " [1194  196]]\n"
     ]
    },
    {
     "name": "stderr",
     "output_type": "stream",
     "text": [
      "d:\\Coding\\lichess-dataset\\venv\\Lib\\site-packages\\sklearn\\neighbors\\_classification.py:239: DataConversionWarning: A column-vector y was passed when a 1d array was expected. Please change the shape of y to (n_samples,), for example using ravel().\n",
      "  return self._fit(X, y)\n"
     ]
    }
   ],
   "source": [
    "knn = KNeighborsClassifier(n_neighbors=10)\n",
    "print_statistics(knn)"
   ]
  },
  {
   "cell_type": "code",
   "execution_count": 144,
   "id": "e243d140",
   "metadata": {},
   "outputs": [
    {
     "name": "stdout",
     "output_type": "stream",
     "text": [
      "0.010674700683430793\n"
     ]
    }
   ],
   "source": [
    "from sklearn import linear_model\n",
    "reg = linear_model.LinearRegression()\n",
    "reg_model = reg.fit(x_train, y_train)\n",
    "y_pred = reg_model.predict(x_test)\n",
    "reg_r2 = r2_score(y_test, y_pred)\n",
    "print(reg_r2)"
   ]
  },
  {
   "cell_type": "code",
   "execution_count": null,
   "id": "ebc88687",
   "metadata": {},
   "outputs": [],
   "source": []
  }
 ],
 "metadata": {
  "kernelspec": {
   "display_name": "venv",
   "language": "python",
   "name": "python3"
  },
  "language_info": {
   "codemirror_mode": {
    "name": "ipython",
    "version": 3
   },
   "file_extension": ".py",
   "mimetype": "text/x-python",
   "name": "python",
   "nbconvert_exporter": "python",
   "pygments_lexer": "ipython3",
   "version": "3.13.5"
  }
 },
 "nbformat": 4,
 "nbformat_minor": 5
}
