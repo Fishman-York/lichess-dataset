{
 "cells": [
  {
   "cell_type": "code",
   "execution_count": 1,
   "id": "9dfa19b4",
   "metadata": {},
   "outputs": [],
   "source": [
    "import pandas as pd\n",
    "import database_load\n",
    "import numpy as np\n",
    "import matplotlib as plt"
   ]
  },
  {
   "cell_type": "code",
   "execution_count": 2,
   "id": "4d8fa3df",
   "metadata": {},
   "outputs": [],
   "source": [
    "def dataframe_creation(cursor, query):\n",
    "    #load query results into pd df\n",
    "    cursor.execute(query)\n",
    "    colnames = [col[0] for col in cursor.description]\n",
    "    df = pd.DataFrame(cursor.fetchall(), columns=colnames)\n",
    "    return df\n",
    "\n",
    "\n",
    "db_connection = database_load.connect_database()\n",
    "db_cursor = db_connection.cursor()\n",
    "\n",
    "df = dataframe_creation(db_cursor, 'select * from games')\n",
    "\n",
    "#close database connection\n",
    "db_cursor.close()\n",
    "db_connection.close()"
   ]
  },
  {
   "cell_type": "code",
   "execution_count": 51,
   "id": "03060118",
   "metadata": {},
   "outputs": [],
   "source": [
    "def split_creation(df_in, col_in):\n",
    "    #take rating_avg, split into different df\n",
    "    max_rating= df_in[col_in].max()\n",
    "    min_ratings= df_in[col_in].min()-df_in[col_in].min()%200\n",
    "    split = []\n",
    "    while min_ratings < max_rating:\n",
    "        split.append(min_ratings)\n",
    "        min_ratings+= 200\n",
    "    return split\n",
    "    \n",
    "def tier_creation(df_in, col_in, col_out):\n",
    "    tiers = split_creation(df_in, col_in)\n",
    "    df_in[col_out] = pd.cut(df_in[col_in], bins=tiers, labels=tiers[:-1])"
   ]
  },
  {
   "cell_type": "code",
   "execution_count": 52,
   "id": "9da8bbdd",
   "metadata": {},
   "outputs": [],
   "source": [
    "results_df = pd.DataFrame(columns=['rating_diff', 'rating_avg', 'winner'])\n",
    "results_df['rating_diff'] = df['white_rating']-df['black_rating']\n",
    "results_df['rating_avg'] = (df['white_rating']+df['black_rating'])/2\n",
    "\n",
    "winner_conditions = [(results_df['rating_diff']>0) & (df['winner'] == 'white'),\n",
    "                     (results_df['rating_diff']<0) & (df['winner'] == 'white'),\n",
    "                     (results_df['rating_diff']<0) & (df['winner'] == 'black'),\n",
    "                     (results_df['rating_diff']>0) & (df['winner'] == 'black')]\n",
    "\n",
    "winner_results = [1,-1,1,-1]\n",
    "\n",
    "results_df['winner'] = np.select(winner_conditions,winner_results, default=0)\n"
   ]
  },
  {
   "cell_type": "code",
   "execution_count": 53,
   "id": "821eca0e",
   "metadata": {},
   "outputs": [
    {
     "name": "stderr",
     "output_type": "stream",
     "text": [
      "C:\\Users\\Julian\\AppData\\Local\\Temp\\ipykernel_25588\\3817348027.py:3: FutureWarning: The default of observed=False is deprecated and will be changed to True in a future version of pandas. Pass observed=False to retain current behavior or observed=True to adopt the future default and silence this warning.\n",
      "  win_amount = results_df.groupby('diff_rank')['winner'].sum().reset_index()\n",
      "C:\\Users\\Julian\\AppData\\Local\\Temp\\ipykernel_25588\\3817348027.py:5: FutureWarning: The default of observed=False is deprecated and will be changed to True in a future version of pandas. Pass observed=False to retain current behavior or observed=True to adopt the future default and silence this warning.\n",
      "  game_amount = results_df.groupby('diff_rank')['winner'].count().reset_index()\n"
     ]
    }
   ],
   "source": [
    "tier_creation(results_df, 'rating_avg', 'rank')\n",
    "tier_creation(results_df, 'rating_diff', 'diff_rank')\n",
    "win_amount = results_df.groupby('diff_rank')['winner'].sum().reset_index()\n",
    "win_amount = win_amount.rename(columns={'winner':'win_amount'})\n",
    "game_amount = results_df.groupby('diff_rank')['winner'].count().reset_index()\n",
    "game_amount = game_amount.rename(columns={'winner':'game_amount'})\n",
    "\n",
    "graph_df = pd.DataFrame(columns=['diff_rank'])\n",
    "graph_df['diff_rank'] = split_creation(results_df, 'rating_diff')[:-1]\n",
    "graph_df = graph_df.merge(win_amount, on='diff_rank', how='left')\n",
    "graph_df = graph_df.merge(game_amount, on='diff_rank', how='left')"
   ]
  },
  {
   "cell_type": "code",
   "execution_count": 67,
   "id": "c4e6caa5",
   "metadata": {},
   "outputs": [
    {
     "name": "stdout",
     "output_type": "stream",
     "text": [
      "   abs_diff_rank  win_amount  game_amount  win_percentage\n",
      "0              0        2025        13108        0.154486\n",
      "1            200        2095         3993        0.524668\n",
      "2            400         923         1363        0.677183\n",
      "3            600         312          445        0.701124\n",
      "4            800         129          147        0.877551\n",
      "5           1000          29           38        0.763158\n",
      "6           1200           8           10        0.800000\n",
      "7           1400           1            1        1.000000\n",
      "8           1600           2            2        1.000000\n"
     ]
    },
    {
     "data": {
      "text/plain": [
       "<Axes: xlabel='abs_diff_rank'>"
      ]
     },
     "execution_count": 67,
     "metadata": {},
     "output_type": "execute_result"
    },
    {
     "data": {
      "image/png": "[encoded data removed]",
      "text/plain": [
       "<Figure size 640x480 with 1 Axes>"
      ]
     },
     "metadata": {},
     "output_type": "display_data"
    }
   ],
   "source": [
    "graph_df['abs_diff_rank'] = graph_df['diff_rank'].apply(lambda x: abs(x+200) if x<0 else x)\n",
    "#abs_win_amount = graph_df.groupby('abs_diff_rank')['win_amount'].sum().reset_index()\n",
    "#abs_game_amount = graph_df.groupby('abs_diff_rank')['game_amount'].sum().reset_index()\n",
    "#.agg\n",
    "abs_graph_df = graph_df.groupby('abs_diff_rank').agg({'win_amount': 'sum', 'game_amount': 'sum'}).reset_index()\n",
    "abs_graph_df['win_percentage']=abs_graph_df['win_amount']/abs_graph_df['game_amount']\n",
    "\n",
    "print(abs_graph_df)\n",
    "\n",
    "abs_graph_df.plot(x='abs_diff_rank', y='win_percentage')\n",
    "\n",
    "# -400: -400--201\n",
    "# -200: -200--1\n",
    "# 0: 0-199\n",
    "# 200: 200-399"
   ]
  },
  {
   "cell_type": "code",
   "execution_count": null,
   "id": "997629ba",
   "metadata": {},
   "outputs": [],
   "source": []
  }
 ],
 "metadata": {
  "kernelspec": {
   "display_name": "venv",
   "language": "python",
   "name": "python3"
  },
  "language_info": {
   "codemirror_mode": {
    "name": "ipython",
    "version": 3
   },
   "file_extension": ".py",
   "mimetype": "text/x-python",
   "name": "python",
   "nbconvert_exporter": "python",
   "pygments_lexer": "ipython3",
   "version": "3.13.5"
  }
 },
 "nbformat": 4,
 "nbformat_minor": 5
}
